{
 "cells": [
  {
   "cell_type": "markdown",
   "id": "e70328bc-1bc5-438c-b823-d637c27f0484",
   "metadata": {},
   "source": [
    "1)The two values of Boolean data types are True and False.we usually write them with uppercase first letter as \"True\" and \"False\"."
   ]
  },
  {
   "cell_type": "markdown",
   "id": "de50762c-487b-413f-9186-f9152f7b7b3e",
   "metadata": {},
   "source": [
    "2)The three different types of Boolean operators are \"and\",\"or\",\"not\".\n",
    "  The \"and\" operator returns True if both of the expressions are True,otherwise it returns \"False\".\n",
    "  The \"or\" operator returns True if one of the expressions is true,it returns False if both of the expressions are False.\n",
    "  The \"not\" operator returns opposite of the boolean value of the expression that is if the expression is True it returns False,if the expression is False then it returns True."
   ]
  },
  {
   "cell_type": "markdown",
   "id": "bb949ad7-0a67-4284-9b22-08d24df128c3",
   "metadata": {},
   "source": [
    "3)\n",
    "   \"and\" operator:\n",
    "   expression 1     expression 2        Result\n",
    "   False            False               False\n",
    "   False            True                False\n",
    "   True             False               False\n",
    "   True             True                True  \n",
    "   \n",
    "   \"or\" operator:\n",
    "    expression 1    expression 2        Result\n",
    "    False           False               False\n",
    "    False           True                True\n",
    "    True            False               True  \n",
    "    True            True                True\n",
    "    \n",
    "    \"not\" operator:\n",
    "    expression 1    Result\n",
    "    True            False\n",
    "    False           True."
   ]
  },
  {
   "cell_type": "markdown",
   "id": "9bdbd713-a4d8-4fb9-ad52-6841e7a00b18",
   "metadata": {},
   "source": [
    "4)(5 > 4) and (3 == 5) returns False\n",
    "  not (5 > 4) returns False\n",
    "  (5 > 4) or (3 == 5) retuns True\n",
    "  not ((5 > 4) or (3 == 5)) returns False\n",
    "  (True and True) and (True == False) retuns False\n",
    "  (not False) or (not True) retuns True."
   ]
  },
  {
   "cell_type": "markdown",
   "id": "33048dc4-b535-4a94-bdfd-224bd3e1dbb7",
   "metadata": {},
   "source": [
    "5)The six comparison operators are as follows:\n",
    "     \n",
    "     1)Double Equal to (==): Checks if the left operand is equal to the right operand.\n",
    "\n",
    "     2)Not equal to (!=): Checks if the left operand is not equal to the right operand.\n",
    "\n",
    "     3)Greater than (>): Checks if the left operand is greater than the right operand.\n",
    "\n",
    "     4)Less than (<): Checks if the left operand is less than the right operand.\n",
    "\n",
    "     5)Greater than or equal to (>=): Checks if the left operand is greater than or equal to the right operand.\n",
    "\n",
    "     6)Less than or equal to (<=): Checks if the left operand is less than or equal to the right operand."
   ]
  },
  {
   "cell_type": "markdown",
   "id": "5cdf4615-fd9a-465c-9dd8-c2e197f55ae7",
   "metadata": {},
   "source": [
    "6)The equal to operator (==) is a comparison operator used to check if two values are equal. It is used in conditional statements or expressions to compare values.whereas assignment operator (=) is used to assign a value to a variable. It is used to store a value in a variable or update the value of an existing variable.To differentiate here is the example:\n",
    "\n",
    "              x = 5       # Here, the assignment operator (=) is used to assign the value 5 to the variable x.\n",
    "              if x == 5:  # Here, the equal to operator (==) is used to compare the value of x with 5.\n",
    "                 print(\"x is equal to 5.\")\n"
   ]
  },
  {
   "cell_type": "markdown",
   "id": "ff2b601c-670f-4345-8910-b81eba80786e",
   "metadata": {},
   "source": [
    "7)The three blocks in the given code are as follows:\n",
    "   \n",
    "    Block 1:\n",
    "    if spam == 10:\n",
    "          print('eggs')\n",
    "          \n",
    "    Block 2:\n",
    "    if spam > 5:\n",
    "          print('bacon')\n",
    "    \n",
    "    Block 3:\n",
    "    else:\n",
    "          print('ham')\n",
    "          print('spam')\n",
    "          print('spam')"
   ]
  },
  {
   "cell_type": "code",
   "execution_count": 6,
   "id": "3de4d05d-a14c-4a23-a944-5b84164cc08e",
   "metadata": {},
   "outputs": [
    {
     "name": "stdin",
     "output_type": "stream",
     "text": [
      "Enter a value for spam:  1\n"
     ]
    },
    {
     "name": "stdout",
     "output_type": "stream",
     "text": [
      "Hello\n"
     ]
    }
   ],
   "source": [
    "#8)\n",
    "spam = int(input(\"Enter a value for spam: \"))\n",
    "\n",
    "if spam == 1:\n",
    "    print(\"Hello\")\n",
    "elif spam == 2:\n",
    "    print(\"Howdy\")\n",
    "else:\n",
    "    print(\"Greetings!\")"
   ]
  },
  {
   "cell_type": "markdown",
   "id": "e07d12c4-c9ab-448a-bfbd-af36074529d6",
   "metadata": {},
   "source": [
    "9)The keyboard shortcut \"i, i\" (press 'i' twice, quickly) to interrupt the kernel and stop the execution."
   ]
  },
  {
   "cell_type": "markdown",
   "id": "9eed080a-18f2-4fca-80b2-2cd1b3b6a425",
   "metadata": {},
   "source": [
    "10)The break and continue statements are used to control the flow of loops:\n",
    "   1)break statement:\n",
    "         When encountered inside a loop, the break statement immediately terminates the loop's execution, regardless of the loop's condition and continues executing the next statement after the loop.\n",
    "   2)continue statement:\n",
    "         When encountered inside a loop, the continue statement skips the remaining statements in the current iteration of the loop and jumps to the next iteration by without terminating the loop."
   ]
  },
  {
   "cell_type": "markdown",
   "id": "56ec6db9-cb50-477d-a12f-0b92eba5b6a4",
   "metadata": {},
   "source": [
    "11)\"range(10)\":\n",
    "\n",
    "    This form of the range() function has a single argument \"stop\".It generates a sequence of numbers starting from 0 (by default)     up to, but not including, the value provided as stop (10 in this case).The step value defaults to 1.\n",
    "    So, range(10) generates the sequence: 0, 1, 2, 3, 4, 5, 6, 7, 8, 9.\n",
    "    \n",
    "    \"range(0,10)\":\n",
    "    \n",
    "    This form of the range() function has two arguments, start and stop.It generates a sequence of numbers starting from the start     value (0 in this case) up to, but not including, the stop value (10 in this case).The step value defaults to 1.\n",
    "    So, range(0, 10) also generates the sequence: 0, 1, 2, 3, 4, 5, 6, 7, 8, 9.\n",
    "    \n",
    "    \"range(0,10,1)\":\n",
    "    \n",
    "    This form of the range() function has three arguments, start, stop, and step.It generates a sequence of numbers starting from       the start value (0 in this case) up to, but not including, the stop value (10 in this case).The step value determines the           increment between each number in the sequence. In this case, the step is explicitly set to 1.\n",
    "    Since the step value is 1, range(0, 10, 1) generates the same sequence as the previous cases: 0, 1, 2, 3, 4, 5, 6, 7, 8, 9."
   ]
  },
  {
   "cell_type": "markdown",
   "id": "fcfccbd2-8b16-4ace-a7ba-605492ca23cb",
   "metadata": {},
   "source": [
    " # 12)using for loop"
   ]
  },
  {
   "cell_type": "code",
   "execution_count": 7,
   "id": "6277d0c2-7125-490a-9dba-37a73aadf180",
   "metadata": {},
   "outputs": [
    {
     "name": "stdout",
     "output_type": "stream",
     "text": [
      "1\n",
      "2\n",
      "3\n",
      "4\n",
      "5\n",
      "6\n",
      "7\n",
      "8\n",
      "9\n",
      "10\n"
     ]
    }
   ],
   "source": [
    "for i in range(1,11):\n",
    "    print(i)"
   ]
  },
  {
   "cell_type": "markdown",
   "id": "529688d0-eef9-4638-b171-f5ba31e56669",
   "metadata": {},
   "source": [
    "# 12)using while loop"
   ]
  },
  {
   "cell_type": "code",
   "execution_count": 10,
   "id": "cf3c770f-b5f4-4409-8396-6d3cc591828c",
   "metadata": {},
   "outputs": [
    {
     "name": "stdout",
     "output_type": "stream",
     "text": [
      "1\n",
      "2\n",
      "3\n",
      "4\n",
      "5\n",
      "6\n",
      "7\n",
      "8\n",
      "9\n",
      "10\n"
     ]
    }
   ],
   "source": [
    "i=1\n",
    "while i<11:\n",
    "    print(i)\n",
    "    i=i+1"
   ]
  },
  {
   "cell_type": "markdown",
   "id": "ed0910a3-9d0a-493a-843b-65fe52510414",
   "metadata": {},
   "source": [
    "13)we usually call by spam.bacon()"
   ]
  },
  {
   "cell_type": "code",
   "execution_count": null,
   "id": "a874afc3-9c5c-4b08-8b9a-73b3fa717d0c",
   "metadata": {},
   "outputs": [],
   "source": []
  }
 ],
 "metadata": {
  "kernelspec": {
   "display_name": "Python 3 (ipykernel)",
   "language": "python",
   "name": "python3"
  },
  "language_info": {
   "codemirror_mode": {
    "name": "ipython",
    "version": 3
   },
   "file_extension": ".py",
   "mimetype": "text/x-python",
   "name": "python",
   "nbconvert_exporter": "python",
   "pygments_lexer": "ipython3",
   "version": "3.10.6"
  }
 },
 "nbformat": 4,
 "nbformat_minor": 5
}
